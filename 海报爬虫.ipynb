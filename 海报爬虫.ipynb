{
 "cells": [
  {
   "cell_type": "code",
   "execution_count": 3,
   "metadata": {},
   "outputs": [],
   "source": [
    "\n",
    "\n",
    "import asyncio # \n",
    "from pyppeteer import launch\n",
    "import urllib\n",
    "\n",
    "topic=\"美女海报\"\n",
    "\n",
    "url='https://cn.bing.com/images/search?q='+urllib.parse.quote(topic)\n",
    "\n",
    "#异步、同步\n",
    "async def main():\n",
    "    #浏览器打开，默认是无头浏览器\n",
    "    browser = await launch()\n",
    "    #新开tab\n",
    "    page = await browser.newPage()\n",
    "    #跳转至新的url\n",
    "    await page.goto(url)\n",
    "    \n",
    "    #截图,    {'键名':'键值'}\n",
    "    await page.screenshot({\n",
    "        'path': 'test---0000001.jpg'\n",
    "    })\n",
    "    \n",
    "    #关闭浏览器\n",
    "    await browser.close()\n",
    "    \n",
    "#jupyter 已经运行了loop，无需自己激活\n",
    "#asyncio.get_event_loop().run_until_complete(main())\n",
    "\n",
    "await main()"
   ]
  },
  {
   "cell_type": "code",
   "execution_count": 5,
   "metadata": {},
   "outputs": [
    {
     "ename": "NameError",
     "evalue": "name 'images' is not defined",
     "output_type": "error",
     "traceback": [
      "\u001b[0;31m---------------------------------------------------------------------------\u001b[0m",
      "\u001b[0;31mNameError\u001b[0m                                 Traceback (most recent call last)",
      "\u001b[0;32m<ipython-input-5-7fb3fe3a4886>\u001b[0m in \u001b[0;36masync-def-wrapper\u001b[0;34m()\u001b[0m\n\u001b[1;32m     27\u001b[0m     \u001b[0mimgs\u001b[0m\u001b[0;34m=\u001b[0m\u001b[0;32mawait\u001b[0m \u001b[0mget_imgs\u001b[0m\u001b[0;34m(\u001b[0m\u001b[0mpage\u001b[0m\u001b[0;34m)\u001b[0m\u001b[0;34m\u001b[0m\u001b[0;34m\u001b[0m\u001b[0m\n\u001b[1;32m     28\u001b[0m \u001b[0;34m\u001b[0m\u001b[0m\n\u001b[0;32m---> 29\u001b[0;31m     \u001b[0;32mfor\u001b[0m \u001b[0mimg\u001b[0m \u001b[0;32min\u001b[0m \u001b[0mimgs\u001b[0m\u001b[0;34m:\u001b[0m\u001b[0;34m\u001b[0m\u001b[0;34m\u001b[0m\u001b[0m\n\u001b[0m\u001b[1;32m     30\u001b[0m \u001b[0;34m\u001b[0m\u001b[0m\n\u001b[1;32m     31\u001b[0m         \u001b[0mimages\u001b[0m\u001b[0;34m[\u001b[0m\u001b[0mimg\u001b[0m\u001b[0;34m]\u001b[0m\u001b[0;34m=\u001b[0m\u001b[0;36m1\u001b[0m\u001b[0;34m\u001b[0m\u001b[0;34m\u001b[0m\u001b[0m\n",
      "\u001b[0;31mNameError\u001b[0m: name 'images' is not defined"
     ]
    }
   ],
   "source": [
    "from pyppeteer import launch\n",
    "\n",
    "url='https://cn.bing.com/images/search?q=%E7%BE%8E%E9%A3%9F%E6%B5%B7%E6%8A%A5'\n",
    "\n",
    "#试试修改headless\n",
    "browser = await launch(headless=True)\n",
    "page = await browser.newPage()\n",
    "await page.goto(url)\n",
    "\n",
    "#页面等待时间,ms, \n",
    "await page.waitFor(2500)\n",
    "\n",
    "#注入js代码，获取页面里所有图片url\n",
    "#配合chrome的console演示\n",
    "async def get_imgs(page):\n",
    "    imgs = await page.evaluate('''() => {\n",
    "            return Array.from(document.images,img=>{\n",
    "                    if(img.alt.match('美食')&&img.src.match('https://')){\n",
    "                        return img.src;\n",
    "                    }\n",
    "                }).filter(img=>{return !!img});\n",
    "        }''')\n",
    "    return imgs\n",
    "\n",
    "#当图片数量大于 100的时候，停止\n",
    "while len(images)<100:\n",
    "    imgs=await get_imgs(page)\n",
    "   \n",
    "    for img in imgs:\n",
    "      \n",
    "        images[img]=1\n",
    "        \n",
    "    await page.evaluate('''() => {\n",
    "            return window.scrollTo(100,document.body.scrollHeight);\n",
    "        }''')\n",
    "    print(len(images))\n",
    "    await page.waitFor(2500)\n",
    "    \n",
    "    \n",
    "#关闭浏览器\n",
    "await browser.close()"
   ]
  },
  {
   "cell_type": "code",
   "execution_count": null,
   "metadata": {},
   "outputs": [],
   "source": []
  }
 ],
 "metadata": {
  "kernelspec": {
   "display_name": "Python 3",
   "language": "python",
   "name": "python3"
  },
  "language_info": {
   "codemirror_mode": {
    "name": "ipython",
    "version": 3
   },
   "file_extension": ".py",
   "mimetype": "text/x-python",
   "name": "python",
   "nbconvert_exporter": "python",
   "pygments_lexer": "ipython3",
   "version": "3.7.6"
  }
 },
 "nbformat": 4,
 "nbformat_minor": 4
}
