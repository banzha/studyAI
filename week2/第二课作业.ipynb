{
 "cells": [
  {
   "cell_type": "code",
   "execution_count": null,
   "metadata": {},
   "outputs": [],
   "source": [
    "#step-01 用户输入一个图片，提取主色\n",
    "def extract_main_color_from_image(image=\"图片\")\n",
    "    print(“色调”)\n",
    "def find_color(r,g,b):\n",
    "    # 通过r,g,b得到匹配的色相\n",
    "    hue = match_color_hue(r,g,b)\n",
    "    # 通过色相 匹配得到合适的颜色组合\n",
    "    color_group = find_color_combination(hue)\n",
    "    return color_group\n",
    "\n",
    "#step-02 图片rgb转hsv\n",
    "def rgb2hsv(r, g, b):\n",
    "    \"\"\"\n",
    "    rgb转hsv\n",
    "    \"\"\"\n",
    "    r, g, b = r/255.0, g/255.0, b/255.0\n",
    "    mx = max(r, g, b)\n",
    "    mn = min(r, g, b)\n",
    "    m = mx-mn\n",
    "    if mx == mn:\n",
    "        h = 0\n",
    "    elif mx == r:\n",
    "        if g >= b:\n",
    "            h = ((g-b)/m)*60\n",
    "        else:\n",
    "            h = ((g-b)/m)*60 + 360\n",
    "    elif mx == g:\n",
    "        h = ((b-r)/m)*60 + 120\n",
    "    elif mx == b:\n",
    "        h = ((r-g)/m)*60 + 240\n",
    "    if mx == 0:\n",
    "        s = 0\n",
    "    else:\n",
    "        s = m/mx\n",
    "    v = mx\n",
    "    return h, s, v\n",
    "\n",
    "#step-03根据主色调hsv，从h=0开始，每18°取一组颜色，作为配色方案\n",
    "for i in range(0,360,18):\n",
    "    #print(i)\n",
    "    a=hsv_to_rgb([i,255,255])\n",
    "    b=hsv_to_rgb([i+18,255,255])\n",
    "    print(\"推荐配色输出\")\n",
    "    print(a,b)"
   ]
  }
 ],
 "metadata": {
  "kernelspec": {
   "display_name": "Python 3",
   "language": "python",
   "name": "python3"
  },
  "language_info": {
   "codemirror_mode": {
    "name": "ipython",
    "version": 3
   },
   "file_extension": ".py",
   "mimetype": "text/x-python",
   "name": "python",
   "nbconvert_exporter": "python",
   "pygments_lexer": "ipython3",
   "version": "3.7.6"
  }
 },
 "nbformat": 4,
 "nbformat_minor": 4
}
