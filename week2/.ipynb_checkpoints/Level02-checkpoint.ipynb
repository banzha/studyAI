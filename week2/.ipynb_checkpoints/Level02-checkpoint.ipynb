{
 "cells": [
  {
   "cell_type": "code",
   "execution_count": 2,
   "metadata": {},
   "outputs": [],
   "source": [
    "# 1.定义输入输出\n",
    "def find_color(r,g,b):\n",
    "    # 通过r,g,b得到匹配的色相\n",
    "    hue = match_color_hue(r,g,b)\n",
    "    # 通过色相 匹配得到合适的颜色组合\n",
    "    color_group = find_color_combination(hue)\n",
    "    return color_group"
   ]
  },
  {
   "cell_type": "code",
   "execution_count": 3,
   "metadata": {},
   "outputs": [],
   "source": [
    "# 2.分类rgb到某个颜色（或色相）\n",
    "def match_color_hue(r,g,b):\n",
    "    h,s,v = rgb2hsv(r,g,b)\n",
    "    # h -> hue_class\n",
    "    hue_class = \"green\"\n",
    "    \n",
    "    return hue_class"
   ]
  },
  {
   "cell_type": "code",
   "execution_count": 4,
   "metadata": {},
   "outputs": [],
   "source": [
    "# 3.根据分类后的颜色，返回搭配的其他色彩\n",
    "def find_color_combination(hue):\n",
    "    match_colors_dict = {\n",
    "        \"green\":[((213,215,21),0.2),((23,215,2),0.6),((13,15,21),0.2)],\n",
    "        \"yellow\":[((13,215,21),0.1),((213,215,2),0.65),((123,15,21),0.25)],\n",
    "    }\n",
    "    return match_colors_dict.get(hue)"
   ]
  },
  {
   "cell_type": "code",
   "execution_count": 5,
   "metadata": {},
   "outputs": [],
   "source": [
    "def rgb2hsv(r, g, b):\n",
    "    \"\"\"\n",
    "    rgb转hsv\n",
    "    \"\"\"\n",
    "    r, g, b = r/255.0, g/255.0, b/255.0\n",
    "    mx = max(r, g, b)\n",
    "    mn = min(r, g, b)\n",
    "    m = mx-mn\n",
    "    if mx == mn:\n",
    "        h = 0\n",
    "    elif mx == r:\n",
    "        if g >= b:\n",
    "            h = ((g-b)/m)*60\n",
    "        else:\n",
    "            h = ((g-b)/m)*60 + 360\n",
    "    elif mx == g:\n",
    "        h = ((b-r)/m)*60 + 120\n",
    "    elif mx == b:\n",
    "        h = ((r-g)/m)*60 + 240\n",
    "    if mx == 0:\n",
    "        s = 0\n",
    "    else:\n",
    "        s = m/mx\n",
    "    v = mx\n",
    "    return h, s, v"
   ]
  },
  {
   "cell_type": "code",
   "execution_count": 6,
   "metadata": {},
   "outputs": [
    {
     "name": "stdout",
     "output_type": "stream",
     "text": [
      "[((213, 215, 21), 0.2), ((23, 215, 2), 0.6), ((13, 15, 21), 0.2)]\n"
     ]
    }
   ],
   "source": [
    "color_group = find_color(r=12,g=13,b=212)\n",
    "print(color_group)"
   ]
  },
  {
   "cell_type": "code",
   "execution_count": null,
   "metadata": {},
   "outputs": [],
   "source": []
  }
 ],
 "metadata": {
  "kernelspec": {
   "display_name": "Python 3",
   "language": "python",
   "name": "python3"
  },
  "language_info": {
   "codemirror_mode": {
    "name": "ipython",
    "version": 3
   },
   "file_extension": ".py",
   "mimetype": "text/x-python",
   "name": "python",
   "nbconvert_exporter": "python",
   "pygments_lexer": "ipython3",
   "version": "3.7.6"
  }
 },
 "nbformat": 4,
 "nbformat_minor": 2
}
